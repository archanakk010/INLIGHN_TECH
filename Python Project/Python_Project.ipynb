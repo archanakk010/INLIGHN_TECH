{
 "cells": [
  {
   "cell_type": "markdown",
   "metadata": {
    "id": "cKd4rmDZavPg"
   },
   "source": [
    "**Project Title:** Voice-Activated AI Chatbot"
   ]
  },
  {
   "cell_type": "markdown",
   "metadata": {
    "id": "9ayOOX37a4WR"
   },
   "source": [
    "**Objective:**\n",
    "Create a voice-activated AI chatbot using Python, capable of responding to a range of commands, conducting online searches, fetching information from Wikipedia, interacting with system commands, and more. This project will demonstrate the integration of voice recognition,\n",
    "Natural Language Processing (NLP), and simple automation using Python."
   ]
  },
  {
   "cell_type": "code",
   "execution_count": 1,
   "metadata": {
    "colab": {
     "base_uri": "https://localhost:8080/"
    },
    "id": "CNr3LPZedqRj",
    "outputId": "a23fc573-2ab6-483c-fa3e-01c5612dfc97"
   },
   "outputs": [
    {
     "name": "stdout",
     "output_type": "stream",
     "text": [
      "Requirement already satisfied: SpeechRecognition in g:\\anaconda\\lib\\site-packages (3.14.3)\n",
      "Requirement already satisfied: gTTS in g:\\anaconda\\lib\\site-packages (2.5.4)\n",
      "Requirement already satisfied: wikipedia-api in g:\\anaconda\\lib\\site-packages (0.8.1)\n",
      "Requirement already satisfied: typing-extensions in g:\\anaconda\\lib\\site-packages (from SpeechRecognition) (4.11.0)\n",
      "Requirement already satisfied: requests<3,>=2.27 in g:\\anaconda\\lib\\site-packages (from gTTS) (2.32.3)\n",
      "Requirement already satisfied: click<8.2,>=7.1 in g:\\anaconda\\lib\\site-packages (from gTTS) (8.1.7)\n",
      "Requirement already satisfied: colorama in g:\\anaconda\\lib\\site-packages (from click<8.2,>=7.1->gTTS) (0.4.6)\n",
      "Requirement already satisfied: charset-normalizer<4,>=2 in g:\\anaconda\\lib\\site-packages (from requests<3,>=2.27->gTTS) (3.3.2)\n",
      "Requirement already satisfied: idna<4,>=2.5 in g:\\anaconda\\lib\\site-packages (from requests<3,>=2.27->gTTS) (3.7)\n",
      "Requirement already satisfied: urllib3<3,>=1.21.1 in g:\\anaconda\\lib\\site-packages (from requests<3,>=2.27->gTTS) (2.2.3)\n",
      "Requirement already satisfied: certifi>=2017.4.17 in g:\\anaconda\\lib\\site-packages (from requests<3,>=2.27->gTTS) (2025.4.26)\n"
     ]
    }
   ],
   "source": [
    "# 1. Setup & Imports (Colab-Compatible)\n",
    "!pip install SpeechRecognition gTTS wikipedia-api"
   ]
  },
  {
   "cell_type": "code",
   "execution_count": 2,
   "metadata": {
    "id": "1WSO-3fbdqVW"
   },
   "outputs": [],
   "source": [
    "# 2. Initialize TTS (Text-to-Speech) with gTTS\n",
    "from gtts import gTTS\n",
    "from IPython.display import Audio\n",
    "\n",
    "def speak(text):\n",
    "    print(f\"AI: {text}\")\n",
    "    tts = gTTS(text=text, lang='en')\n",
    "    tts.save(\"response.mp3\")\n",
    "    return Audio(\"response.mp3\", autoplay=True)"
   ]
  },
  {
   "cell_type": "code",
   "execution_count": 3,
   "metadata": {
    "id": "82bONEW0gDhb"
   },
   "outputs": [],
   "source": [
    "# 3. Simulated Voice Input (takeCommand())\n",
    "def takeCommand():\n",
    "    query = input(\"You (type your command): \")\n",
    "    return query.lower()"
   ]
  },
  {
   "cell_type": "code",
   "execution_count": 4,
   "metadata": {
    "id": "bslghqCdgDlX"
   },
   "outputs": [],
   "source": [
    "# 4. Greeting Function\n",
    "import datetime\n",
    "\n",
    "def wishMe():\n",
    "    hour = datetime.datetime.now().hour\n",
    "    if 0 <= hour < 12:\n",
    "        return speak(\"Good Morning!\")\n",
    "    elif 12 <= hour < 18:\n",
    "        return speak(\"Good Afternoon!\")\n",
    "    else:\n",
    "        return speak(\"Good Evening!\")"
   ]
  },
  {
   "cell_type": "code",
   "execution_count": 5,
   "metadata": {
    "id": "SaJRAT-ZgOZr"
   },
   "outputs": [],
   "source": [
    "# 5. Wikipedia Search\n",
    "import wikipediaapi\n",
    "\n",
    "wiki = wikipediaapi.Wikipedia(user_agent='your-user-agent', language='en')\n",
    "\n",
    "def searchWikipedia(query):\n",
    "    topic = query.replace(\"wikipedia\", \"\").strip()\n",
    "    page = wiki.page(topic)\n",
    "    if page.exists():\n",
    "        return speak(page.summary[:500])\n",
    "    else:\n",
    "        return speak(\"Sorry, I couldn't find anything on that topic.\")"
   ]
  },
  {
   "cell_type": "code",
   "execution_count": 6,
   "metadata": {
    "id": "mreC_KrTgOcl"
   },
   "outputs": [],
   "source": [
    "# 6. Web Commands\n",
    "import webbrowser\n",
    "\n",
    "def openWebsite(site):\n",
    "    websites = {\n",
    "        \"google\": \"https://www.google.com\",\n",
    "        \"youtube\": \"https://www.youtube.com\",\n",
    "        \"github\": \"https://github.com\",\n",
    "    }\n",
    "    if site in websites:\n",
    "        webbrowser.open(websites[site])\n",
    "        return speak(f\"Opening {site}\")\n",
    "    else:\n",
    "        return speak(\"Website not recognized.\")"
   ]
  },
  {
   "cell_type": "code",
   "execution_count": 7,
   "metadata": {
    "id": "1m7NLGiHgOiX"
   },
   "outputs": [],
   "source": [
    "# 7. Handle Commands Function\n",
    "def handleCommand(query):\n",
    "    if \"wikipedia\" in query:\n",
    "        return searchWikipedia(query)\n",
    "    elif \"open\" in query:\n",
    "        site = query.replace(\"open\", \"\").strip()\n",
    "        return openWebsite(site)\n",
    "    elif \"time\" in query:\n",
    "        strTime = datetime.datetime.now().strftime(\"%H:%M:%S\")\n",
    "        return speak(f\"The time is {strTime}\")\n",
    "    elif \"hello\" in query or \"hi\" in query:\n",
    "        return speak(\"Hello! How can I assist you?\")\n",
    "    elif \"who are you\" in query:\n",
    "        return speak(\"I am your voice assistant chatbot built using Python.\")\n",
    "    elif \"note\" in query:\n",
    "        return speak(\"Note functionality is not yet implemented.\")\n",
    "    elif \"shutdown\" in query or \"restart\" in query:\n",
    "         return speak(\"System command simulation: This feature is not available in Colab.\")\n",
    "    else:\n",
    "        return speak(\"Sorry, I didn't understand that command.\")"
   ]
  },
  {
   "cell_type": "code",
   "execution_count": null,
   "metadata": {
    "colab": {
     "base_uri": "https://localhost:8080/"
    },
    "id": "2c8vzDP5gDpT",
    "outputId": "4a1f9387-3028-48a3-b02f-4418b3b81886"
   },
   "outputs": [
    {
     "name": "stdout",
     "output_type": "stream",
     "text": [
      "AI: Good Morning!\n"
     ]
    }
   ],
   "source": [
    "# 8. Main Driver Code\n",
    "wishMe()\n",
    "while True:\n",
    "    query = takeCommand()\n",
    "    if query in [\"exit\", \"quit\", \"bye\"]:\n",
    "        speak(\"Goodbye! Have a nice day.\")\n",
    "        break\n",
    "    handleCommand(query)"
   ]
  },
  {
   "cell_type": "code",
   "execution_count": null,
   "metadata": {
    "id": "9NXh3-cyg-n2"
   },
   "outputs": [],
   "source": []
  },
  {
   "cell_type": "code",
   "execution_count": null,
   "metadata": {
    "id": "c75WTgHog-sU"
   },
   "outputs": [],
   "source": []
  },
  {
   "cell_type": "code",
   "execution_count": null,
   "metadata": {
    "id": "3tGJ0ZISg-xN"
   },
   "outputs": [],
   "source": []
  },
  {
   "cell_type": "code",
   "execution_count": null,
   "metadata": {
    "id": "X2sJirQlaupp"
   },
   "outputs": [],
   "source": []
  }
 ],
 "metadata": {
  "colab": {
   "authorship_tag": "ABX9TyMfRlDqWD1/iY7Z433Op7qR",
   "include_colab_link": true,
   "provenance": []
  },
  "kernelspec": {
   "display_name": "Python [conda env:base] *",
   "language": "python",
   "name": "conda-base-py"
  },
  "language_info": {
   "codemirror_mode": {
    "name": "ipython",
    "version": 3
   },
   "file_extension": ".py",
   "mimetype": "text/x-python",
   "name": "python",
   "nbconvert_exporter": "python",
   "pygments_lexer": "ipython3",
   "version": "3.12.7"
  }
 },
 "nbformat": 4,
 "nbformat_minor": 4
}
